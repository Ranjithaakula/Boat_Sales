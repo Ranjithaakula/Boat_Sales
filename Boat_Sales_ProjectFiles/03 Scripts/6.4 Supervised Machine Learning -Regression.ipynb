{
 "cells": [
  {
   "cell_type": "markdown",
   "id": "fae2dd4d",
   "metadata": {},
   "source": [
    "This script encompasses  the following points-\n",
    "\n",
    "1.Import libraries and data\n",
    "2.Data wrangling and consistency\n",
    "3.Data cleaning\n",
    "4.Hypothesis - A potential correlation exists between higher boat prices and a reduction in the number of views, implying that an increase in boat price might lead to a decrease in views\n",
    "5.Conclusions"
   ]
  },
  {
   "cell_type": "code",
   "execution_count": 1,
   "id": "abc67c18",
   "metadata": {},
   "outputs": [
    {
     "name": "stdout",
     "output_type": "stream",
     "text": [
      "Requirement already satisfied: scikit-learn in c:\\users\\ranji\\anaconda3\\lib\\site-packages (1.2.1)\n",
      "Requirement already satisfied: numpy>=1.17.3 in c:\\users\\ranji\\anaconda3\\lib\\site-packages (from scikit-learn) (1.23.5)\n",
      "Requirement already satisfied: joblib>=1.1.1 in c:\\users\\ranji\\anaconda3\\lib\\site-packages (from scikit-learn) (1.1.1)\n",
      "Requirement already satisfied: scipy>=1.3.2 in c:\\users\\ranji\\anaconda3\\lib\\site-packages (from scikit-learn) (1.10.1)\n",
      "Requirement already satisfied: threadpoolctl>=2.0.0 in c:\\users\\ranji\\anaconda3\\lib\\site-packages (from scikit-learn) (2.2.0)\n"
     ]
    }
   ],
   "source": [
    "Step-1 Install the scikit-learn library.\n",
    "\n",
    "!pip install scikit-learn "
   ]
  },
  {
   "cell_type": "code",
   "execution_count": 2,
   "id": "197a08a7",
   "metadata": {},
   "outputs": [],
   "source": [
    "Step-2 Import the libraries you need into a new notebook, including any necessary modules from scikit-learn\n",
    "\n",
    "import pandas as pd\n",
    "import numpy as np\n",
    "import os\n",
    "import matplotlib.pyplot as plt\n",
    "import seaborn as sns\n",
    "import scipy\n",
    "import folium\n",
    "import json"
   ]
  },
  {
   "cell_type": "code",
   "execution_count": 4,
   "id": "a9cb9acd",
   "metadata": {},
   "outputs": [],
   "source": [
    "Step-3 Clean your data so that it’s ready for analysis.\n",
    "\n",
    "#Path setup\n",
    "\n",
    "path=r\"C:\\Users\\ranji\\Downloads\\Submitted tasks\\Sourcing Open Data_7\\Execrise 2\""
   ]
  },
  {
   "cell_type": "code",
   "execution_count": 5,
   "id": "38cfced4",
   "metadata": {},
   "outputs": [],
   "source": [
    "df = pd.read_csv(os.path.join(path, 'Cleaned_data.csv'), index_col = False)"
   ]
  },
  {
   "cell_type": "code",
   "execution_count": 6,
   "id": "13ed3ad4",
   "metadata": {},
   "outputs": [
    {
     "data": {
      "text/html": [
       "<div>\n",
       "<style scoped>\n",
       "    .dataframe tbody tr th:only-of-type {\n",
       "        vertical-align: middle;\n",
       "    }\n",
       "\n",
       "    .dataframe tbody tr th {\n",
       "        vertical-align: top;\n",
       "    }\n",
       "\n",
       "    .dataframe thead th {\n",
       "        text-align: right;\n",
       "    }\n",
       "</style>\n",
       "<table border=\"1\" class=\"dataframe\">\n",
       "  <thead>\n",
       "    <tr style=\"text-align: right;\">\n",
       "      <th></th>\n",
       "      <th>Boat Type</th>\n",
       "      <th>Manufacturer</th>\n",
       "      <th>Type</th>\n",
       "      <th>Year Built</th>\n",
       "      <th>Length</th>\n",
       "      <th>Width</th>\n",
       "      <th>Material</th>\n",
       "      <th>Number of views last 7 days</th>\n",
       "      <th>EUR_price</th>\n",
       "      <th>Country</th>\n",
       "      <th>City</th>\n",
       "      <th>Engine Type</th>\n",
       "      <th>Condition</th>\n",
       "      <th>age_group</th>\n",
       "      <th>Price_groub</th>\n",
       "      <th>Views Performance</th>\n",
       "    </tr>\n",
       "  </thead>\n",
       "  <tbody>\n",
       "    <tr>\n",
       "      <th>0</th>\n",
       "      <td>Motor Yacht</td>\n",
       "      <td>Bayliner power boats</td>\n",
       "      <td>Used boat,Unleaded</td>\n",
       "      <td>1992</td>\n",
       "      <td>7.70</td>\n",
       "      <td>2.46</td>\n",
       "      <td>Plastic</td>\n",
       "      <td>3263</td>\n",
       "      <td>15198.0</td>\n",
       "      <td>Switzerland</td>\n",
       "      <td>Le Landeron (NE)</td>\n",
       "      <td>Unleaded</td>\n",
       "      <td>Used</td>\n",
       "      <td>Very Old (built before 2000)</td>\n",
       "      <td>Cheap (less than 44290)</td>\n",
       "      <td>Good (more than 170)</td>\n",
       "    </tr>\n",
       "    <tr>\n",
       "      <th>1</th>\n",
       "      <td>Hardtop</td>\n",
       "      <td>Princess power boats</td>\n",
       "      <td>Used boat,Diesel</td>\n",
       "      <td>1979</td>\n",
       "      <td>11.12</td>\n",
       "      <td>3.88</td>\n",
       "      <td>GRP</td>\n",
       "      <td>2432</td>\n",
       "      <td>35700.0</td>\n",
       "      <td>Switzerland</td>\n",
       "      <td>Neuenburgersee</td>\n",
       "      <td>Diesel</td>\n",
       "      <td>Used</td>\n",
       "      <td>Very Old (built before 2000)</td>\n",
       "      <td>Cheap (less than 44290)</td>\n",
       "      <td>Good (more than 170)</td>\n",
       "    </tr>\n",
       "    <tr>\n",
       "      <th>2</th>\n",
       "      <td>Bowrider</td>\n",
       "      <td>Windy power boats</td>\n",
       "      <td>Used boat,Diesel</td>\n",
       "      <td>2002</td>\n",
       "      <td>12.35</td>\n",
       "      <td>3.48</td>\n",
       "      <td>GRP</td>\n",
       "      <td>2261</td>\n",
       "      <td>128418.0</td>\n",
       "      <td>Switzerland</td>\n",
       "      <td>Lago Maggiore</td>\n",
       "      <td>Diesel</td>\n",
       "      <td>Used</td>\n",
       "      <td>Old (built between 2000-2017)</td>\n",
       "      <td>Expensive (more than 250000)</td>\n",
       "      <td>Good (more than 170)</td>\n",
       "    </tr>\n",
       "    <tr>\n",
       "      <th>3</th>\n",
       "      <td>Hardtop</td>\n",
       "      <td>Pershing power boats</td>\n",
       "      <td>Used boat,Diesel</td>\n",
       "      <td>2009</td>\n",
       "      <td>20.30</td>\n",
       "      <td>5.20</td>\n",
       "      <td>GRP</td>\n",
       "      <td>2154</td>\n",
       "      <td>949000.0</td>\n",
       "      <td>Other</td>\n",
       "      <td>None</td>\n",
       "      <td>Diesel</td>\n",
       "      <td>Used</td>\n",
       "      <td>Old (built between 2000-2017)</td>\n",
       "      <td>Expensive (more than 250000)</td>\n",
       "      <td>Good (more than 170)</td>\n",
       "    </tr>\n",
       "    <tr>\n",
       "      <th>4</th>\n",
       "      <td>Sport Boat</td>\n",
       "      <td>Sea Ray power boats</td>\n",
       "      <td>Used boat,Unleaded</td>\n",
       "      <td>1993</td>\n",
       "      <td>6.14</td>\n",
       "      <td>2.34</td>\n",
       "      <td>Plastic</td>\n",
       "      <td>2026</td>\n",
       "      <td>20298.0</td>\n",
       "      <td>Switzerland</td>\n",
       "      <td>Murtensee</td>\n",
       "      <td>Unleaded</td>\n",
       "      <td>Used</td>\n",
       "      <td>Very Old (built before 2000)</td>\n",
       "      <td>Cheap (less than 44290)</td>\n",
       "      <td>Good (more than 170)</td>\n",
       "    </tr>\n",
       "  </tbody>\n",
       "</table>\n",
       "</div>"
      ],
      "text/plain": [
       "     Boat Type          Manufacturer                Type  Year Built  Length  \\\n",
       "0  Motor Yacht  Bayliner power boats  Used boat,Unleaded        1992    7.70   \n",
       "1      Hardtop  Princess power boats    Used boat,Diesel        1979   11.12   \n",
       "2     Bowrider     Windy power boats    Used boat,Diesel        2002   12.35   \n",
       "3      Hardtop  Pershing power boats    Used boat,Diesel        2009   20.30   \n",
       "4   Sport Boat   Sea Ray power boats  Used boat,Unleaded        1993    6.14   \n",
       "\n",
       "   Width Material  Number of views last 7 days  EUR_price      Country  \\\n",
       "0   2.46  Plastic                         3263    15198.0  Switzerland   \n",
       "1   3.88      GRP                         2432    35700.0  Switzerland   \n",
       "2   3.48      GRP                         2261   128418.0  Switzerland   \n",
       "3   5.20      GRP                         2154   949000.0        Other   \n",
       "4   2.34  Plastic                         2026    20298.0  Switzerland   \n",
       "\n",
       "                City Engine Type Condition                      age_group  \\\n",
       "0   Le Landeron (NE)    Unleaded      Used   Very Old (built before 2000)   \n",
       "1    Neuenburgersee       Diesel      Used   Very Old (built before 2000)   \n",
       "2     Lago Maggiore       Diesel      Used  Old (built between 2000-2017)   \n",
       "3               None      Diesel      Used  Old (built between 2000-2017)   \n",
       "4         Murtensee     Unleaded      Used   Very Old (built before 2000)   \n",
       "\n",
       "                    Price_groub     Views Performance  \n",
       "0       Cheap (less than 44290)  Good (more than 170)  \n",
       "1       Cheap (less than 44290)  Good (more than 170)  \n",
       "2  Expensive (more than 250000)  Good (more than 170)  \n",
       "3  Expensive (more than 250000)  Good (more than 170)  \n",
       "4       Cheap (less than 44290)  Good (more than 170)  "
      ]
     },
     "execution_count": 6,
     "metadata": {},
     "output_type": "execute_result"
    }
   ],
   "source": [
    "df.head()"
   ]
  },
  {
   "cell_type": "code",
   "execution_count": 7,
   "id": "ae56c7d1",
   "metadata": {},
   "outputs": [
    {
     "data": {
      "text/plain": [
       "(8521, 16)"
      ]
     },
     "execution_count": 7,
     "metadata": {},
     "output_type": "execute_result"
    }
   ],
   "source": [
    "df.shape"
   ]
  },
  {
   "cell_type": "code",
   "execution_count": 8,
   "id": "4aefba46",
   "metadata": {},
   "outputs": [
    {
     "name": "stdout",
     "output_type": "stream",
     "text": [
      "<class 'pandas.core.frame.DataFrame'>\n",
      "RangeIndex: 8521 entries, 0 to 8520\n",
      "Data columns (total 16 columns):\n",
      " #   Column                       Non-Null Count  Dtype  \n",
      "---  ------                       --------------  -----  \n",
      " 0   Boat Type                    8521 non-null   object \n",
      " 1   Manufacturer                 8521 non-null   object \n",
      " 2   Type                         8521 non-null   object \n",
      " 3   Year Built                   8521 non-null   int64  \n",
      " 4   Length                       8521 non-null   float64\n",
      " 5   Width                        8521 non-null   float64\n",
      " 6   Material                     8521 non-null   object \n",
      " 7   Number of views last 7 days  8521 non-null   int64  \n",
      " 8   EUR_price                    8521 non-null   float64\n",
      " 9   Country                      8521 non-null   object \n",
      " 10  City                         8521 non-null   object \n",
      " 11  Engine Type                  6802 non-null   object \n",
      " 12  Condition                    8479 non-null   object \n",
      " 13  age_group                    8022 non-null   object \n",
      " 14  Price_groub                  8521 non-null   object \n",
      " 15  Views Performance            8521 non-null   object \n",
      "dtypes: float64(3), int64(2), object(11)\n",
      "memory usage: 1.0+ MB\n"
     ]
    }
   ],
   "source": [
    "df.info()"
   ]
  },
  {
   "cell_type": "markdown",
   "id": "a92a71ce",
   "metadata": {},
   "source": [
    "#Data Wrangling & Cleaning"
   ]
  },
  {
   "cell_type": "code",
   "execution_count": 10,
   "id": "1fff4a5a",
   "metadata": {},
   "outputs": [],
   "source": [
    "#dropping columns\n",
    "\n",
    "columns_to_drop = ['Engine Type','Condition','age_group']\n",
    "df.drop(columns=columns_to_drop, inplace=True)"
   ]
  },
  {
   "cell_type": "code",
   "execution_count": 11,
   "id": "3a38a3b8",
   "metadata": {},
   "outputs": [
    {
     "data": {
      "text/plain": [
       "Boat Type                      0\n",
       "Manufacturer                   0\n",
       "Type                           0\n",
       "Year Built                     0\n",
       "Length                         0\n",
       "Width                          0\n",
       "Material                       0\n",
       "Number of views last 7 days    0\n",
       "EUR_price                      0\n",
       "Country                        0\n",
       "City                           0\n",
       "Price_groub                    0\n",
       "Views Performance              0\n",
       "dtype: int64"
      ]
     },
     "execution_count": 11,
     "metadata": {},
     "output_type": "execute_result"
    }
   ],
   "source": [
    "#check for missing values\n",
    "\n",
    "df.isnull().sum()"
   ]
  },
  {
   "cell_type": "markdown",
   "id": "9a311d8b",
   "metadata": {},
   "source": [
    "The data is complete; no missing values are present"
   ]
  },
  {
   "cell_type": "code",
   "execution_count": 12,
   "id": "7b6f2ddc",
   "metadata": {},
   "outputs": [
    {
     "data": {
      "text/plain": [
       "(8521,)"
      ]
     },
     "execution_count": 12,
     "metadata": {},
     "output_type": "execute_result"
    }
   ],
   "source": [
    "dups = df.duplicated()\n",
    "dups.shape"
   ]
  },
  {
   "cell_type": "markdown",
   "id": "2124ccee",
   "metadata": {},
   "source": [
    "No duplicate values have been detected."
   ]
  },
  {
   "cell_type": "markdown",
   "id": "b7a9fed6",
   "metadata": {},
   "source": [
    "#check for outliers"
   ]
  },
  {
   "cell_type": "code",
   "execution_count": 13,
   "id": "e2483c48",
   "metadata": {},
   "outputs": [
    {
     "data": {
      "text/plain": [
       "<Axes: xlabel='Number of views last 7 days', ylabel='Count'>"
      ]
     },
     "execution_count": 13,
     "metadata": {},
     "output_type": "execute_result"
    },
    {
     "data": {
      "image/png": "[encoded data removed]",
      "text/plain": [
       "<Figure size 640x480 with 1 Axes>"
      ]
     },
     "metadata": {},
     "output_type": "display_data"
    }
   ],
   "source": [
    "sns.histplot(df['Number of views last 7 days'], bins=20, kde = True)"
   ]
  },
  {
   "cell_type": "markdown",
   "id": "c11b8edd",
   "metadata": {},
   "source": [
    "The histogram does not display any outliers or extreme values, indicating that there is no need to perform any removal or adjustment based on extreme observations"
   ]
  },
  {
   "cell_type": "markdown",
   "id": "83105e84",
   "metadata": {},
   "source": [
    "Step - 4 Explore your data visually (e.g., by way of a scatterplot), looking for variables whose relationship you’d like to test."
   ]
  },
  {
   "cell_type": "code",
   "execution_count": 79,
   "id": "67d251fe",
   "metadata": {},
   "outputs": [
    {
     "data": {
      "image/png": "[encoded data removed]",
      "text/plain": [
       "<Figure size 1000x600 with 1 Axes>"
      ]
     },
     "metadata": {},
     "output_type": "display_data"
    }
   ],
   "source": [
    "#Creating a scatter plot to explore the relationship between the 'Number of views' and 'Type' variables\n",
    "\n",
    "sns.set(style=\"whitegrid\")\n",
    "\n",
    "plt.figure(figsize=(10, 6))\n",
    "sns.scatterplot(data=df, x='Number of views last 7 days', y='EUR_price', color='green', alpha=0.7)\n",
    "\n",
    "# Set plot title and labels with color adjustments\n",
    "plt.title('Number of Views vs. EUR Price of Boat Listings', color='green', fontsize=16)\n",
    "plt.xlabel('Number of Views last 7 days', color='green', fontsize=12)\n",
    "plt.ylabel('EUR Price', color='green', fontsize=12)\n",
    "\n",
    "plt.savefig(\"Number of views vs EUR price of boats.png\")\n",
    "plt.show()"
   ]
  },
  {
   "cell_type": "markdown",
   "id": "59c37c76",
   "metadata": {},
   "source": [
    "The model's outcome on the training set is similar to that of the one we have in the test set. This confirms what we supposed earlier: the model is applicable."
   ]
  },
  {
   "cell_type": "markdown",
   "id": "bb55edea",
   "metadata": {},
   "source": [
    "Step - 5 State your hypothesis in a markdown cell within your Jupyter notebook.\n",
    "\n",
    "Hypothesis:The higher-priced boats are likely to attract fewer views compared to lower-priced ones."
   ]
  },
  {
   "cell_type": "markdown",
   "id": "dc355d9e",
   "metadata": {},
   "source": [
    "Step - 6 Reshape the variables into NumPy arrays, with X being the independent variable and y being the dependent variable."
   ]
  },
  {
   "cell_type": "code",
   "execution_count": 46,
   "id": "23ad952c",
   "metadata": {},
   "outputs": [],
   "source": [
    "X = df['Number of views last 7 days'].values.reshape(-1, 1)\n",
    "y = df['EUR_price'].values.reshape(-1, 1)"
   ]
  },
  {
   "cell_type": "code",
   "execution_count": 47,
   "id": "6ace1ae0",
   "metadata": {},
   "outputs": [
    {
     "data": {
      "text/plain": [
       "array([[3263],\n",
       "       [2432],\n",
       "       [2261],\n",
       "       ...,\n",
       "       [  18],\n",
       "       [  15],\n",
       "       [  13]], dtype=int64)"
      ]
     },
     "execution_count": 47,
     "metadata": {},
     "output_type": "execute_result"
    }
   ],
   "source": [
    "X"
   ]
  },
  {
   "cell_type": "code",
   "execution_count": 48,
   "id": "04662499",
   "metadata": {},
   "outputs": [
    {
     "data": {
      "text/plain": [
       "array([[ 15198.],\n",
       "       [ 35700.],\n",
       "       [128418.],\n",
       "       ...,\n",
       "       [ 62800.],\n",
       "       [ 53900.],\n",
       "       [580000.]])"
      ]
     },
     "execution_count": 48,
     "metadata": {},
     "output_type": "execute_result"
    }
   ],
   "source": [
    "y"
   ]
  },
  {
   "cell_type": "markdown",
   "id": "f519b5ab",
   "metadata": {},
   "source": [
    "Step-7 Split data into a training set and a test set"
   ]
  },
  {
   "cell_type": "code",
   "execution_count": 52,
   "id": "dc54866e",
   "metadata": {},
   "outputs": [],
   "source": [
    "from sklearn.model_selection import train_test_split\n",
    "\n",
    "\n",
    "X_train, X_test, y_train, y_test = train_test_split(X, y, test_size=0.3, random_state=0)"
   ]
  },
  {
   "cell_type": "code",
   "execution_count": null,
   "id": "df4602ab",
   "metadata": {},
   "outputs": [],
   "source": [
    "Step-8 Run a linear regression on the data."
   ]
  },
  {
   "cell_type": "code",
   "execution_count": 54,
   "id": "68842fc5",
   "metadata": {},
   "outputs": [],
   "source": [
    "#Create a regression object\n",
    "\n",
    "from sklearn.linear_model import LinearRegression\n",
    "regression = LinearRegression()  # Regression object, which will be fit onto the training set"
   ]
  },
  {
   "cell_type": "code",
   "execution_count": 55,
   "id": "d4ddc94e",
   "metadata": {},
   "outputs": [
    {
     "data": {
      "text/html": [
       "<style>#sk-container-id-1 {color: black;background-color: white;}#sk-container-id-1 pre{padding: 0;}#sk-container-id-1 div.sk-toggleable {background-color: white;}#sk-container-id-1 label.sk-toggleable__label {cursor: pointer;display: block;width: 100%;margin-bottom: 0;padding: 0.3em;box-sizing: border-box;text-align: center;}#sk-container-id-1 label.sk-toggleable__label-arrow:before {content: \"▸\";float: left;margin-right: 0.25em;color: #696969;}#sk-container-id-1 label.sk-toggleable__label-arrow:hover:before {color: black;}#sk-container-id-1 div.sk-estimator:hover label.sk-toggleable__label-arrow:before {color: black;}#sk-container-id-1 div.sk-toggleable__content {max-height: 0;max-width: 0;overflow: hidden;text-align: left;background-color: #f0f8ff;}#sk-container-id-1 div.sk-toggleable__content pre {margin: 0.2em;color: black;border-radius: 0.25em;background-color: #f0f8ff;}#sk-container-id-1 input.sk-toggleable__control:checked~div.sk-toggleable__content {max-height: 200px;max-width: 100%;overflow: auto;}#sk-container-id-1 input.sk-toggleable__control:checked~label.sk-toggleable__label-arrow:before {content: \"▾\";}#sk-container-id-1 div.sk-estimator input.sk-toggleable__control:checked~label.sk-toggleable__label {background-color: #d4ebff;}#sk-container-id-1 div.sk-label input.sk-toggleable__control:checked~label.sk-toggleable__label {background-color: #d4ebff;}#sk-container-id-1 input.sk-hidden--visually {border: 0;clip: rect(1px 1px 1px 1px);clip: rect(1px, 1px, 1px, 1px);height: 1px;margin: -1px;overflow: hidden;padding: 0;position: absolute;width: 1px;}#sk-container-id-1 div.sk-estimator {font-family: monospace;background-color: #f0f8ff;border: 1px dotted black;border-radius: 0.25em;box-sizing: border-box;margin-bottom: 0.5em;}#sk-container-id-1 div.sk-estimator:hover {background-color: #d4ebff;}#sk-container-id-1 div.sk-parallel-item::after {content: \"\";width: 100%;border-bottom: 1px solid gray;flex-grow: 1;}#sk-container-id-1 div.sk-label:hover label.sk-toggleable__label {background-color: #d4ebff;}#sk-container-id-1 div.sk-serial::before {content: \"\";position: absolute;border-left: 1px solid gray;box-sizing: border-box;top: 0;bottom: 0;left: 50%;z-index: 0;}#sk-container-id-1 div.sk-serial {display: flex;flex-direction: column;align-items: center;background-color: white;padding-right: 0.2em;padding-left: 0.2em;position: relative;}#sk-container-id-1 div.sk-item {position: relative;z-index: 1;}#sk-container-id-1 div.sk-parallel {display: flex;align-items: stretch;justify-content: center;background-color: white;position: relative;}#sk-container-id-1 div.sk-item::before, #sk-container-id-1 div.sk-parallel-item::before {content: \"\";position: absolute;border-left: 1px solid gray;box-sizing: border-box;top: 0;bottom: 0;left: 50%;z-index: -1;}#sk-container-id-1 div.sk-parallel-item {display: flex;flex-direction: column;z-index: 1;position: relative;background-color: white;}#sk-container-id-1 div.sk-parallel-item:first-child::after {align-self: flex-end;width: 50%;}#sk-container-id-1 div.sk-parallel-item:last-child::after {align-self: flex-start;width: 50%;}#sk-container-id-1 div.sk-parallel-item:only-child::after {width: 0;}#sk-container-id-1 div.sk-dashed-wrapped {border: 1px dashed gray;margin: 0 0.4em 0.5em 0.4em;box-sizing: border-box;padding-bottom: 0.4em;background-color: white;}#sk-container-id-1 div.sk-label label {font-family: monospace;font-weight: bold;display: inline-block;line-height: 1.2em;}#sk-container-id-1 div.sk-label-container {text-align: center;}#sk-container-id-1 div.sk-container {/* jupyter's `normalize.less` sets `[hidden] { display: none; }` but bootstrap.min.css set `[hidden] { display: none !important; }` so we also need the `!important` here to be able to override the default hidden behavior on the sphinx rendered scikit-learn.org. See: https://github.com/scikit-learn/scikit-learn/issues/21755 */display: inline-block !important;position: relative;}#sk-container-id-1 div.sk-text-repr-fallback {display: none;}</style><div id=\"sk-container-id-1\" class=\"sk-top-container\"><div class=\"sk-text-repr-fallback\"><pre>LinearRegression()</pre><b>In a Jupyter environment, please rerun this cell to show the HTML representation or trust the notebook. <br />On GitHub, the HTML representation is unable to render, please try loading this page with nbviewer.org.</b></div><div class=\"sk-container\" hidden><div class=\"sk-item\"><div class=\"sk-estimator sk-toggleable\"><input class=\"sk-toggleable__control sk-hidden--visually\" id=\"sk-estimator-id-1\" type=\"checkbox\" checked><label for=\"sk-estimator-id-1\" class=\"sk-toggleable__label sk-toggleable__label-arrow\">LinearRegression</label><div class=\"sk-toggleable__content\"><pre>LinearRegression()</pre></div></div></div></div></div>"
      ],
      "text/plain": [
       "LinearRegression()"
      ]
     },
     "execution_count": 55,
     "metadata": {},
     "output_type": "execute_result"
    }
   ],
   "source": [
    "LinearRegression()"
   ]
  },
  {
   "cell_type": "code",
   "execution_count": 56,
   "id": "e01ca004",
   "metadata": {},
   "outputs": [
    {
     "data": {
      "text/html": [
       "<style>#sk-container-id-2 {color: black;background-color: white;}#sk-container-id-2 pre{padding: 0;}#sk-container-id-2 div.sk-toggleable {background-color: white;}#sk-container-id-2 label.sk-toggleable__label {cursor: pointer;display: block;width: 100%;margin-bottom: 0;padding: 0.3em;box-sizing: border-box;text-align: center;}#sk-container-id-2 label.sk-toggleable__label-arrow:before {content: \"▸\";float: left;margin-right: 0.25em;color: #696969;}#sk-container-id-2 label.sk-toggleable__label-arrow:hover:before {color: black;}#sk-container-id-2 div.sk-estimator:hover label.sk-toggleable__label-arrow:before {color: black;}#sk-container-id-2 div.sk-toggleable__content {max-height: 0;max-width: 0;overflow: hidden;text-align: left;background-color: #f0f8ff;}#sk-container-id-2 div.sk-toggleable__content pre {margin: 0.2em;color: black;border-radius: 0.25em;background-color: #f0f8ff;}#sk-container-id-2 input.sk-toggleable__control:checked~div.sk-toggleable__content {max-height: 200px;max-width: 100%;overflow: auto;}#sk-container-id-2 input.sk-toggleable__control:checked~label.sk-toggleable__label-arrow:before {content: \"▾\";}#sk-container-id-2 div.sk-estimator input.sk-toggleable__control:checked~label.sk-toggleable__label {background-color: #d4ebff;}#sk-container-id-2 div.sk-label input.sk-toggleable__control:checked~label.sk-toggleable__label {background-color: #d4ebff;}#sk-container-id-2 input.sk-hidden--visually {border: 0;clip: rect(1px 1px 1px 1px);clip: rect(1px, 1px, 1px, 1px);height: 1px;margin: -1px;overflow: hidden;padding: 0;position: absolute;width: 1px;}#sk-container-id-2 div.sk-estimator {font-family: monospace;background-color: #f0f8ff;border: 1px dotted black;border-radius: 0.25em;box-sizing: border-box;margin-bottom: 0.5em;}#sk-container-id-2 div.sk-estimator:hover {background-color: #d4ebff;}#sk-container-id-2 div.sk-parallel-item::after {content: \"\";width: 100%;border-bottom: 1px solid gray;flex-grow: 1;}#sk-container-id-2 div.sk-label:hover label.sk-toggleable__label {background-color: #d4ebff;}#sk-container-id-2 div.sk-serial::before {content: \"\";position: absolute;border-left: 1px solid gray;box-sizing: border-box;top: 0;bottom: 0;left: 50%;z-index: 0;}#sk-container-id-2 div.sk-serial {display: flex;flex-direction: column;align-items: center;background-color: white;padding-right: 0.2em;padding-left: 0.2em;position: relative;}#sk-container-id-2 div.sk-item {position: relative;z-index: 1;}#sk-container-id-2 div.sk-parallel {display: flex;align-items: stretch;justify-content: center;background-color: white;position: relative;}#sk-container-id-2 div.sk-item::before, #sk-container-id-2 div.sk-parallel-item::before {content: \"\";position: absolute;border-left: 1px solid gray;box-sizing: border-box;top: 0;bottom: 0;left: 50%;z-index: -1;}#sk-container-id-2 div.sk-parallel-item {display: flex;flex-direction: column;z-index: 1;position: relative;background-color: white;}#sk-container-id-2 div.sk-parallel-item:first-child::after {align-self: flex-end;width: 50%;}#sk-container-id-2 div.sk-parallel-item:last-child::after {align-self: flex-start;width: 50%;}#sk-container-id-2 div.sk-parallel-item:only-child::after {width: 0;}#sk-container-id-2 div.sk-dashed-wrapped {border: 1px dashed gray;margin: 0 0.4em 0.5em 0.4em;box-sizing: border-box;padding-bottom: 0.4em;background-color: white;}#sk-container-id-2 div.sk-label label {font-family: monospace;font-weight: bold;display: inline-block;line-height: 1.2em;}#sk-container-id-2 div.sk-label-container {text-align: center;}#sk-container-id-2 div.sk-container {/* jupyter's `normalize.less` sets `[hidden] { display: none; }` but bootstrap.min.css set `[hidden] { display: none !important; }` so we also need the `!important` here to be able to override the default hidden behavior on the sphinx rendered scikit-learn.org. See: https://github.com/scikit-learn/scikit-learn/issues/21755 */display: inline-block !important;position: relative;}#sk-container-id-2 div.sk-text-repr-fallback {display: none;}</style><div id=\"sk-container-id-2\" class=\"sk-top-container\"><div class=\"sk-text-repr-fallback\"><pre>LinearRegression()</pre><b>In a Jupyter environment, please rerun this cell to show the HTML representation or trust the notebook. <br />On GitHub, the HTML representation is unable to render, please try loading this page with nbviewer.org.</b></div><div class=\"sk-container\" hidden><div class=\"sk-item\"><div class=\"sk-estimator sk-toggleable\"><input class=\"sk-toggleable__control sk-hidden--visually\" id=\"sk-estimator-id-2\" type=\"checkbox\" checked><label for=\"sk-estimator-id-2\" class=\"sk-toggleable__label sk-toggleable__label-arrow\">LinearRegression</label><div class=\"sk-toggleable__content\"><pre>LinearRegression()</pre></div></div></div></div></div>"
      ],
      "text/plain": [
       "LinearRegression()"
      ]
     },
     "execution_count": 56,
     "metadata": {},
     "output_type": "execute_result"
    }
   ],
   "source": [
    "# Fit the regression object onto the training set.\n",
    "\n",
    "regression.fit(X_train, y_train)"
   ]
  },
  {
   "cell_type": "code",
   "execution_count": 57,
   "id": "76cde2f3",
   "metadata": {},
   "outputs": [],
   "source": [
    "#Predict the values of y using X.\n",
    "\n",
    "y_predicted = regression.predict(X_test)\n",
    "        "
   ]
  },
  {
   "cell_type": "markdown",
   "id": "65d1d77c",
   "metadata": {},
   "source": [
    "Step - 9 Create a plot that shows the regression line on the test set."
   ]
  },
  {
   "cell_type": "code",
   "execution_count": 80,
   "id": "b6e89ebf",
   "metadata": {},
   "outputs": [
    {
     "data": {
      "image/png": "[encoded data removed]",
      "text/plain": [
       "<Figure size 640x480 with 1 Axes>"
      ]
     },
     "metadata": {},
     "output_type": "display_data"
    }
   ],
   "source": [
    "plt.scatter(X_test, y_test, color='gray', s=15)\n",
    "plt.plot(X_test, y_predicted, color='red', linewidth=3)\n",
    "\n",
    "plt.title('Number of Views last 7 days vs. EUR Price (Test Set)')\n",
    "plt.xlabel('Number of Views last 7 days')\n",
    "plt.ylabel('EUR Price')\n",
    "\n",
    "plt.savefig(\"Number of views vs EUR price.png\")\n",
    "plt.show()"
   ]
  },
  {
   "cell_type": "markdown",
   "id": "9e42a5cc",
   "metadata": {},
   "source": [
    "Step-11 Check the model performance statistics—MSE and R2 score."
   ]
  },
  {
   "cell_type": "code",
   "execution_count": 60,
   "id": "4482c41f",
   "metadata": {},
   "outputs": [],
   "source": [
    "from sklearn.metrics import mean_squared_error, r2_score\n",
    "\n",
    "rmse = mean_squared_error(y_test, y_predicted, squared=False)\n",
    "\n",
    "r2 = r2_score(y_test, y_predicted) "
   ]
  },
  {
   "cell_type": "code",
   "execution_count": 61,
   "id": "b93a7918",
   "metadata": {},
   "outputs": [
    {
     "name": "stdout",
     "output_type": "stream",
     "text": [
      "Slope: [[43.58383018]]\n",
      "Mean squared error: 855833.1591929698\n",
      "R2 score: -0.0010302790674912021\n"
     ]
    }
   ],
   "source": [
    "print('Slope:', regression.coef_)\n",
    "print('Mean squared error:', rmse)\n",
    "print('R2 score:', r2)\n"
   ]
  },
  {
   "cell_type": "code",
   "execution_count": 62,
   "id": "c1bdb1cf",
   "metadata": {},
   "outputs": [
    {
     "data": {
      "text/plain": [
       "array([[297683.54088292],\n",
       "       [299252.55876954],\n",
       "       [311499.61505121],\n",
       "       ...,\n",
       "       [301083.07963726],\n",
       "       [300777.99282597],\n",
       "       [299339.7264299 ]])"
      ]
     },
     "execution_count": 62,
     "metadata": {},
     "output_type": "execute_result"
    }
   ],
   "source": [
    "y_predicted"
   ]
  },
  {
   "cell_type": "markdown",
   "id": "32909de9",
   "metadata": {},
   "source": [
    "Step-12 Compare the predicted y values with the actual y values in a dataframe."
   ]
  },
  {
   "cell_type": "code",
   "execution_count": 63,
   "id": "84117dc0",
   "metadata": {},
   "outputs": [
    {
     "name": "stdout",
     "output_type": "stream",
     "text": [
      "       Actual      Predicted\n",
      "0    870000.0  297683.540883\n",
      "1     23000.0  299252.558770\n",
      "2      8990.0  311499.615051\n",
      "3    670000.0  297988.627694\n",
      "4    580000.0  296681.112789\n",
      "5     15300.0  323223.665371\n",
      "6    179500.0  300821.576656\n",
      "7    239000.0  298337.298336\n",
      "8     79900.0  304351.866901\n",
      "9    249900.0  299644.813241\n",
      "10  1092637.0  303131.519656\n",
      "11    79900.0  298468.049826\n",
      "12   590000.0  298642.385147\n",
      "13    49999.0  299034.639619\n",
      "14     6048.9  298468.049826\n",
      "15    59900.0  301431.750279\n",
      "16    27000.0  299819.148562\n",
      "17   129000.0  300690.825166\n",
      "18   466830.0  299383.310260\n",
      "19    59500.0  304918.456693\n",
      "20   125000.0  298380.882166\n",
      "21    70000.0  299993.483883\n",
      "22    45900.0  300080.651543\n",
      "23   111350.0  303567.357958\n",
      "24   175000.0  299906.316222\n",
      "25    47500.0  307838.573316\n",
      "26    38900.0  303131.519656\n",
      "27    65990.0  303916.028599\n",
      "28    64000.0  300516.489845\n",
      "29  1144500.0  302259.843052\n"
     ]
    }
   ],
   "source": [
    "# Create a DataFrame comparing actual and predicted values\n",
    "\n",
    "data = pd.DataFrame({'Actual': y_test.flatten(), 'Predicted': y_predicted.flatten()})\n",
    "\n",
    "# Display the first 30 rows of the DataFrame\n",
    "print(data.head(30))\n"
   ]
  },
  {
   "cell_type": "markdown",
   "id": "6722a4fb",
   "metadata": {},
   "source": [
    "Step - 13 Include your thoughts on how well the model performed on the test set in a markdown cell."
   ]
  },
  {
   "cell_type": "markdown",
   "id": "62eb9c06",
   "metadata": {},
   "source": [
    "The extremely high Mean Squared Error (MSE) and low R-squared (R2) score signify that the the model's performance  align with our initial hypothesis.\n",
    "It means our assumption is valid, the price of the boat appear to have a significant influence on its popularity or the number of views it receives. "
   ]
  },
  {
   "cell_type": "code",
   "execution_count": null,
   "id": "6a8d4373",
   "metadata": {},
   "outputs": [],
   "source": [
    "#Compare how the regression fits the training set"
   ]
  },
  {
   "cell_type": "code",
   "execution_count": 68,
   "id": "a36e17dc",
   "metadata": {},
   "outputs": [],
   "source": [
    "y_predicted_train = regression.predict(X_train) # This is predicting X_train"
   ]
  },
  {
   "cell_type": "code",
   "execution_count": 69,
   "id": "b8a230f1",
   "metadata": {},
   "outputs": [],
   "source": [
    "rmse = mean_squared_error(y_train, y_predicted_train)\n",
    "r2 = r2_score(y_train, y_predicted_train)"
   ]
  },
  {
   "cell_type": "code",
   "execution_count": 70,
   "id": "14cd9772",
   "metadata": {},
   "outputs": [
    {
     "name": "stdout",
     "output_type": "stream",
     "text": [
      "Slope: [[43.58383018]]\n",
      "Mean squared error: 1030807961228.6213\n",
      "R2 score: 4.446400329582989e-05\n"
     ]
    }
   ],
   "source": [
    "print('Slope:', regression.coef_)\n",
    "print('Mean squared error:', rmse)\n",
    "print('R2 score:', r2)"
   ]
  },
  {
   "cell_type": "code",
   "execution_count": null,
   "id": "b73f5e8d",
   "metadata": {},
   "outputs": [],
   "source": [
    "# Visualizing the training set results."
   ]
  },
  {
   "cell_type": "code",
   "execution_count": 81,
   "id": "be66997e",
   "metadata": {},
   "outputs": [
    {
     "data": {
      "image/png": "[encoded data removed]",
      "text/plain": [
       "<Figure size 640x480 with 1 Axes>"
      ]
     },
     "metadata": {},
     "output_type": "display_data"
    }
   ],
   "source": [
    "plt.scatter(X_train, y_train, color='green', s=15)\n",
    "plt.plot(X_train, y_predicted_train, color='red', linewidth=3)\n",
    "plt.title('Number of Views vs. EUR Price (Train Set)')\n",
    "plt.xlabel('Number of Views last 7 days')\n",
    "plt.ylabel('EUR Price')\n",
    "plt.savefig(\"Number of Views last 7 days vs EUR Price.png\")\n",
    "plt.show()"
   ]
  },
  {
   "cell_type": "markdown",
   "id": "58211fd0",
   "metadata": {},
   "source": [
    "Step - 12 Compare the predicted y values with the actual y values in a dataframe."
   ]
  },
  {
   "cell_type": "markdown",
   "id": "ccd718c5",
   "metadata": {},
   "source": [
    "The models's outcome on the training set is similar to that of the one we have in the test set. "
   ]
  },
  {
   "cell_type": "markdown",
   "id": "bae56fba",
   "metadata": {},
   "source": [
    "Step - 13 Include your thoughts on how well the model performed on the test set in a markdown cell."
   ]
  },
  {
   "cell_type": "code",
   "execution_count": 72,
   "id": "ec74f776",
   "metadata": {},
   "outputs": [],
   "source": [
    "#To further investigate the validity of our initial hypothesis \n",
    "\n",
    "most_viewed = df[df['Number of views last 7 days'] > 700].sort_values('Number of views last 7 days', ascending=False)"
   ]
  },
  {
   "cell_type": "code",
   "execution_count": 73,
   "id": "553f60ce",
   "metadata": {},
   "outputs": [
    {
     "data": {
      "text/html": [
       "<div>\n",
       "<style scoped>\n",
       "    .dataframe tbody tr th:only-of-type {\n",
       "        vertical-align: middle;\n",
       "    }\n",
       "\n",
       "    .dataframe tbody tr th {\n",
       "        vertical-align: top;\n",
       "    }\n",
       "\n",
       "    .dataframe thead th {\n",
       "        text-align: right;\n",
       "    }\n",
       "</style>\n",
       "<table border=\"1\" class=\"dataframe\">\n",
       "  <thead>\n",
       "    <tr style=\"text-align: right;\">\n",
       "      <th></th>\n",
       "      <th>Boat Type</th>\n",
       "      <th>Manufacturer</th>\n",
       "      <th>Type</th>\n",
       "      <th>Year Built</th>\n",
       "      <th>Length</th>\n",
       "      <th>Width</th>\n",
       "      <th>Material</th>\n",
       "      <th>Number of views last 7 days</th>\n",
       "      <th>EUR_price</th>\n",
       "      <th>Country</th>\n",
       "      <th>City</th>\n",
       "      <th>Price_groub</th>\n",
       "      <th>Views Performance</th>\n",
       "    </tr>\n",
       "  </thead>\n",
       "  <tbody>\n",
       "    <tr>\n",
       "      <th>0</th>\n",
       "      <td>Motor Yacht</td>\n",
       "      <td>Bayliner power boats</td>\n",
       "      <td>Used boat,Unleaded</td>\n",
       "      <td>1992</td>\n",
       "      <td>7.70</td>\n",
       "      <td>2.46</td>\n",
       "      <td>Plastic</td>\n",
       "      <td>3263</td>\n",
       "      <td>15198.0</td>\n",
       "      <td>Switzerland</td>\n",
       "      <td>Le Landeron (NE)</td>\n",
       "      <td>Cheap (less than 44290)</td>\n",
       "      <td>Good (more than 170)</td>\n",
       "    </tr>\n",
       "    <tr>\n",
       "      <th>1</th>\n",
       "      <td>Hardtop</td>\n",
       "      <td>Princess power boats</td>\n",
       "      <td>Used boat,Diesel</td>\n",
       "      <td>1979</td>\n",
       "      <td>11.12</td>\n",
       "      <td>3.88</td>\n",
       "      <td>GRP</td>\n",
       "      <td>2432</td>\n",
       "      <td>35700.0</td>\n",
       "      <td>Switzerland</td>\n",
       "      <td>Neuenburgersee</td>\n",
       "      <td>Cheap (less than 44290)</td>\n",
       "      <td>Good (more than 170)</td>\n",
       "    </tr>\n",
       "    <tr>\n",
       "      <th>2</th>\n",
       "      <td>Bowrider</td>\n",
       "      <td>Windy power boats</td>\n",
       "      <td>Used boat,Diesel</td>\n",
       "      <td>2002</td>\n",
       "      <td>12.35</td>\n",
       "      <td>3.48</td>\n",
       "      <td>GRP</td>\n",
       "      <td>2261</td>\n",
       "      <td>128418.0</td>\n",
       "      <td>Switzerland</td>\n",
       "      <td>Lago Maggiore</td>\n",
       "      <td>Expensive (more than 250000)</td>\n",
       "      <td>Good (more than 170)</td>\n",
       "    </tr>\n",
       "    <tr>\n",
       "      <th>3</th>\n",
       "      <td>Hardtop</td>\n",
       "      <td>Pershing power boats</td>\n",
       "      <td>Used boat,Diesel</td>\n",
       "      <td>2009</td>\n",
       "      <td>20.30</td>\n",
       "      <td>5.20</td>\n",
       "      <td>GRP</td>\n",
       "      <td>2154</td>\n",
       "      <td>949000.0</td>\n",
       "      <td>Other</td>\n",
       "      <td>None</td>\n",
       "      <td>Expensive (more than 250000)</td>\n",
       "      <td>Good (more than 170)</td>\n",
       "    </tr>\n",
       "    <tr>\n",
       "      <th>4</th>\n",
       "      <td>Sport Boat</td>\n",
       "      <td>Sea Ray power boats</td>\n",
       "      <td>Used boat,Unleaded</td>\n",
       "      <td>1993</td>\n",
       "      <td>6.14</td>\n",
       "      <td>2.34</td>\n",
       "      <td>Plastic</td>\n",
       "      <td>2026</td>\n",
       "      <td>20298.0</td>\n",
       "      <td>Switzerland</td>\n",
       "      <td>Murtensee</td>\n",
       "      <td>Cheap (less than 44290)</td>\n",
       "      <td>Good (more than 170)</td>\n",
       "    </tr>\n",
       "    <tr>\n",
       "      <th>...</th>\n",
       "      <td>...</td>\n",
       "      <td>...</td>\n",
       "      <td>...</td>\n",
       "      <td>...</td>\n",
       "      <td>...</td>\n",
       "      <td>...</td>\n",
       "      <td>...</td>\n",
       "      <td>...</td>\n",
       "      <td>...</td>\n",
       "      <td>...</td>\n",
       "      <td>...</td>\n",
       "      <td>...</td>\n",
       "      <td>...</td>\n",
       "    </tr>\n",
       "    <tr>\n",
       "      <th>109</th>\n",
       "      <td>Motor Yacht</td>\n",
       "      <td>Glastron power boats</td>\n",
       "      <td>Used boat,Unleaded</td>\n",
       "      <td>2016</td>\n",
       "      <td>7.67</td>\n",
       "      <td>2.55</td>\n",
       "      <td>GRP</td>\n",
       "      <td>711</td>\n",
       "      <td>97410.0</td>\n",
       "      <td>Switzerland</td>\n",
       "      <td>Lake Constance</td>\n",
       "      <td>Expensive (more than 250000)</td>\n",
       "      <td>Good (more than 170)</td>\n",
       "    </tr>\n",
       "    <tr>\n",
       "      <th>110</th>\n",
       "      <td>Bowrider</td>\n",
       "      <td>Larson power boats</td>\n",
       "      <td>Used boat,Unleaded</td>\n",
       "      <td>1998</td>\n",
       "      <td>6.07</td>\n",
       "      <td>2.47</td>\n",
       "      <td>GRP</td>\n",
       "      <td>709</td>\n",
       "      <td>19380.0</td>\n",
       "      <td>Switzerland</td>\n",
       "      <td>Lake Geneva</td>\n",
       "      <td>Cheap (less than 44290)</td>\n",
       "      <td>Good (more than 170)</td>\n",
       "    </tr>\n",
       "    <tr>\n",
       "      <th>111</th>\n",
       "      <td>Cabin Boat</td>\n",
       "      <td>Rinker power boats</td>\n",
       "      <td>Used boat,Unleaded</td>\n",
       "      <td>2008</td>\n",
       "      <td>7.47</td>\n",
       "      <td>2.59</td>\n",
       "      <td>GRP</td>\n",
       "      <td>708</td>\n",
       "      <td>57630.0</td>\n",
       "      <td>Switzerland</td>\n",
       "      <td>Lake Geneva</td>\n",
       "      <td>Medium (44290-250000)</td>\n",
       "      <td>Good (more than 170)</td>\n",
       "    </tr>\n",
       "    <tr>\n",
       "      <th>112</th>\n",
       "      <td>Motor Yacht</td>\n",
       "      <td>Sunseeker power boats</td>\n",
       "      <td>Used boat</td>\n",
       "      <td>1990</td>\n",
       "      <td>9.42</td>\n",
       "      <td>3.30</td>\n",
       "      <td>GRP</td>\n",
       "      <td>706</td>\n",
       "      <td>35700.0</td>\n",
       "      <td>Switzerland</td>\n",
       "      <td>Ermatingen</td>\n",
       "      <td>Cheap (less than 44290)</td>\n",
       "      <td>Good (more than 170)</td>\n",
       "    </tr>\n",
       "    <tr>\n",
       "      <th>113</th>\n",
       "      <td>Motor Yacht</td>\n",
       "      <td>Bayliner power boats</td>\n",
       "      <td>Used boat,Diesel</td>\n",
       "      <td>1999</td>\n",
       "      <td>10.20</td>\n",
       "      <td>3.41</td>\n",
       "      <td>GRP</td>\n",
       "      <td>704</td>\n",
       "      <td>43000.0</td>\n",
       "      <td>Croatia(Hrvatska)</td>\n",
       "      <td>Porec</td>\n",
       "      <td>Cheap (less than 44290)</td>\n",
       "      <td>Good (more than 170)</td>\n",
       "    </tr>\n",
       "  </tbody>\n",
       "</table>\n",
       "<p>114 rows × 13 columns</p>\n",
       "</div>"
      ],
      "text/plain": [
       "       Boat Type           Manufacturer                Type  Year Built  \\\n",
       "0    Motor Yacht   Bayliner power boats  Used boat,Unleaded        1992   \n",
       "1        Hardtop   Princess power boats    Used boat,Diesel        1979   \n",
       "2       Bowrider      Windy power boats    Used boat,Diesel        2002   \n",
       "3        Hardtop   Pershing power boats    Used boat,Diesel        2009   \n",
       "4     Sport Boat    Sea Ray power boats  Used boat,Unleaded        1993   \n",
       "..           ...                    ...                 ...         ...   \n",
       "109  Motor Yacht   Glastron power boats  Used boat,Unleaded        2016   \n",
       "110     Bowrider     Larson power boats  Used boat,Unleaded        1998   \n",
       "111   Cabin Boat     Rinker power boats  Used boat,Unleaded        2008   \n",
       "112  Motor Yacht  Sunseeker power boats           Used boat        1990   \n",
       "113  Motor Yacht   Bayliner power boats    Used boat,Diesel        1999   \n",
       "\n",
       "     Length  Width Material  Number of views last 7 days  EUR_price  \\\n",
       "0      7.70   2.46  Plastic                         3263    15198.0   \n",
       "1     11.12   3.88      GRP                         2432    35700.0   \n",
       "2     12.35   3.48      GRP                         2261   128418.0   \n",
       "3     20.30   5.20      GRP                         2154   949000.0   \n",
       "4      6.14   2.34  Plastic                         2026    20298.0   \n",
       "..      ...    ...      ...                          ...        ...   \n",
       "109    7.67   2.55      GRP                          711    97410.0   \n",
       "110    6.07   2.47      GRP                          709    19380.0   \n",
       "111    7.47   2.59      GRP                          708    57630.0   \n",
       "112    9.42   3.30      GRP                          706    35700.0   \n",
       "113   10.20   3.41      GRP                          704    43000.0   \n",
       "\n",
       "               Country               City                   Price_groub  \\\n",
       "0          Switzerland   Le Landeron (NE)       Cheap (less than 44290)   \n",
       "1          Switzerland    Neuenburgersee        Cheap (less than 44290)   \n",
       "2          Switzerland     Lago Maggiore   Expensive (more than 250000)   \n",
       "3                Other               None  Expensive (more than 250000)   \n",
       "4          Switzerland         Murtensee        Cheap (less than 44290)   \n",
       "..                 ...                ...                           ...   \n",
       "109        Switzerland    Lake Constance   Expensive (more than 250000)   \n",
       "110        Switzerland       Lake Geneva        Cheap (less than 44290)   \n",
       "111        Switzerland       Lake Geneva          Medium (44290-250000)   \n",
       "112        Switzerland         Ermatingen       Cheap (less than 44290)   \n",
       "113  Croatia(Hrvatska)              Porec       Cheap (less than 44290)   \n",
       "\n",
       "        Views Performance  \n",
       "0    Good (more than 170)  \n",
       "1    Good (more than 170)  \n",
       "2    Good (more than 170)  \n",
       "3    Good (more than 170)  \n",
       "4    Good (more than 170)  \n",
       "..                    ...  \n",
       "109  Good (more than 170)  \n",
       "110  Good (more than 170)  \n",
       "111  Good (more than 170)  \n",
       "112  Good (more than 170)  \n",
       "113  Good (more than 170)  \n",
       "\n",
       "[114 rows x 13 columns]"
      ]
     },
     "execution_count": 73,
     "metadata": {},
     "output_type": "execute_result"
    }
   ],
   "source": [
    "most_viewed"
   ]
  },
  {
   "cell_type": "code",
   "execution_count": 74,
   "id": "5cd040b9",
   "metadata": {},
   "outputs": [],
   "source": [
    "file_path = r\"C:\\Users\\ranji\\Downloads\\Submitted tasks\\Sourcing Open Data_7\\Execrise 4\\Cleaned_Data_MachineLearning.csv\"\n",
    "df.to_csv(file_path, index=False)"
   ]
  },
  {
   "cell_type": "markdown",
   "id": "7a2c36e0",
   "metadata": {},
   "source": [
    "Our initial hypothesis suggested that an increase in boat price might result in a decrease in views. Surprisingly, the performance statistics, including the Mean Squared Error (MSE) and R-squared (R2) score, aligned with our initial assumption. However, to validate the hypothesis further, we conducted a more in-depth investigation. The findings revealed that the price of the boat does not significantly impact its popularity in terms of views. Intriguingly, the most viewed boat in the dataset is not among the highest-priced entries. \n",
    "The performance of the MSE and R2 score metrics played a crucial role in guiding this discovery, demonstrating their effectiveness in unraveling the underlying relationship between boat price and popularity."
   ]
  }
 ],
 "metadata": {
  "kernelspec": {
   "display_name": "Python 3 (ipykernel)",
   "language": "python",
   "name": "python3"
  },
  "language_info": {
   "codemirror_mode": {
    "name": "ipython",
    "version": 3
   },
   "file_extension": ".py",
   "mimetype": "text/x-python",
   "name": "python",
   "nbconvert_exporter": "python",
   "pygments_lexer": "ipython3",
   "version": "3.10.9"
  }
 },
 "nbformat": 4,
 "nbformat_minor": 5
}
